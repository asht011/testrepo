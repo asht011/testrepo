{
 "cells": [
  {
   "cell_type": "markdown",
   "metadata": {},
   "source": [
    "<center>\n",
    "    <img src=\"https://cf-courses-data.s3.us.cloud-object-storage.appdomain.cloud/IBMDeveloperSkillsNetwork-DS0105EN-SkillsNetwork/labs/Module2/images/SN_web_lightmode.png\" width=\"300\" alt=\"cognitiveclass.ai logo\">\n",
    "</center>\n"
   ]
  },
  {
   "cell_type": "markdown",
   "metadata": {},
   "source": [
    "#### Add your code below following the instructions given in the course\n"
   ]
  },
  {
   "cell_type": "markdown",
   "metadata": {},
   "source": [
    "# Title : Peer Graded Assignment"
   ]
  },
  {
   "cell_type": "markdown",
   "metadata": {},
   "source": [
    "## Introduction Markdown\n",
    "This section contains the information about the this python file and here it is being created for the peer graded assignment for the Tools for data science course on coursera."
   ]
  },
  {
   "cell_type": "markdown",
   "metadata": {},
   "source": [
    "## Data Science Languages\n",
    "### 1. Python 2. R 3. SQL 4. Java 5. Julia 6. Scala 7. C++ 8. SAS 9. Ruby"
   ]
  },
  {
   "cell_type": "markdown",
   "metadata": {},
   "source": [
    "## Data Science Libraries\n",
    "### Pandas\n",
    "### NumPy\n",
    "### TensorFlow\n",
    "### matplotlib\n",
    "### Scikit-learn\n",
    "### SciPy\n",
    "### Pytorch\n",
    "### Keras\n",
    "### Plotly\n",
    "### Seaborn\n",
    "### GGplot2\n",
    "### Dplyr\n",
    "### Apache spark\n",
    "### NLTK\n",
    "### spaCy\n"
   ]
  },
  {
   "cell_type": "markdown",
   "metadata": {},
   "source": [
    "## a table of Data Science tools "
   ]
  },
  {
   "cell_type": "code",
   "execution_count": 9,
   "metadata": {
    "tags": []
   },
   "outputs": [
    {
     "name": "stdout",
     "output_type": "stream",
     "text": [
      "Task             | Tools                                              | \n",
      "-------------------------------------------------------------------\n",
      "General Purpose  | MS Excel                                           | \n",
      "Cloud based      | Big ML, Google Analytics, Adobe Analytics          | \n",
      "Multi-purpose    | SAS, Apache Spark, Matlab                          | \n",
      "Programming      | Python, R, Jupyter Notebook, MongoDB, Julia, D3.js | \n",
      "Visualization    | Tableau, Power BI, Matplotlib                      | \n",
      "Machine Learning | SciKit-learn, TensorFlow, DataRobot, NLTK          | \n"
     ]
    }
   ],
   "source": [
    "## a table of Data Science tools \n",
    "headers = [\"Task\", \"Tools\"]\n",
    "data = [\n",
    "    [\"General Purpose\", \"MS Excel\"],\n",
    "    [\"Cloud based\", \"Big ML, Google Analytics, Adobe Analytics\"],\n",
    "    [\"Multi-purpose\", \"SAS, Apache Spark, Matlab\"],\n",
    "    [\"Programming\", \"Python, R, Jupyter Notebook, MongoDB, Julia, D3.js\"],\n",
    "    [\"Visualization\", \"Tableau, Power BI, Matplotlib\"],\n",
    "    [\"Machine Learning\", \"SciKit-learn, TensorFlow, DataRobot, NLTK\"]\n",
    "]\n",
    "\n",
    "# Determine the width of each column\n",
    "column_widths = [max(len(str(x)) for x in column) for column in zip(headers, *data)]\n",
    "\n",
    "# Print the headers\n",
    "for i, header in enumerate(headers):\n",
    "    print(f\"{header: <{column_widths[i]}} | \", end=\"\")\n",
    "print()\n",
    "print(\"-\" * (sum(column_widths) + len(column_widths) - 1))  # Print separator line\n",
    "\n",
    "# Print the data rows\n",
    "for row in data:\n",
    "    for i, value in enumerate(row):\n",
    "        print(f\"{value: <{column_widths[i]}} | \", end=\"\")\n",
    "    print()\n"
   ]
  },
  {
   "cell_type": "markdown",
   "metadata": {},
   "source": [
    "# Arithmetic Expression Examples\n",
    "\n",
    "Arithmetic expressions are fundamental mathematical operations that involve numbers and operators. In this section, we'll explore various examples of arithmetic expressions and how they work. These expressions allow you to perform basic mathematical operations such as addition, subtraction, multiplication, and division.\n",
    "\n",
    "## Basic Arithmetic Operators\n",
    "\n",
    "The basic arithmetic operators include:\n",
    "\n",
    "- Addition (+): Adds two or more numbers.\n",
    "- Subtraction (-): Subtracts one number from another.\n",
    "- Multiplication (*): Multiplies two or more numbers.\n",
    "- Division (/): Divides one number by another.\n",
    "\n",
    "Let's dive into some examples:\n",
    "\n",
    "### Addition\n",
    "\n",
    "```python\n",
    "2 + 3 = 5\n"
   ]
  },
  {
   "cell_type": "code",
   "execution_count": 11,
   "metadata": {
    "tags": []
   },
   "outputs": [
    {
     "data": {
      "text/plain": [
       "5"
      ]
     },
     "execution_count": 11,
     "metadata": {},
     "output_type": "execute_result"
    }
   ],
   "source": [
    "2 + 3"
   ]
  },
  {
   "cell_type": "code",
   "execution_count": 12,
   "metadata": {
    "tags": []
   },
   "outputs": [
    {
     "name": "stdout",
     "output_type": "stream",
     "text": [
      "5 * 3 = 15\n",
      "5 + 3 = 8\n"
     ]
    }
   ],
   "source": [
    "# Define two numbers\n",
    "number1 = 5\n",
    "number2 = 3\n",
    "\n",
    "# Multiply the numbers\n",
    "result_multiply = number1 * number2\n",
    "\n",
    "# Add the numbers\n",
    "result_add = number1 + number2\n",
    "\n",
    "# Print the results\n",
    "print(f\"{number1} * {number2} = {result_multiply}\")\n",
    "print(f\"{number1} + {number2} = {result_add}\")\n"
   ]
  },
  {
   "cell_type": "code",
   "execution_count": 13,
   "metadata": {
    "tags": []
   },
   "outputs": [
    {
     "name": "stdout",
     "output_type": "stream",
     "text": [
      "120 minutes is equal to 2.0 hours\n"
     ]
    }
   ],
   "source": [
    "# Define the number of minutes\n",
    "minutes = 120  # Change this to the number of minutes you want to convert\n",
    "\n",
    "# Convert minutes to hours\n",
    "hours = minutes / 60\n",
    "\n",
    "# Print the result\n",
    "print(f\"{minutes} minutes is equal to {hours} hours\")\n"
   ]
  },
  {
   "cell_type": "markdown",
   "metadata": {},
   "source": [
    "## Objectives\n",
    "\n",
    "In this section, we'll outline the objectives of our project or task. Clear objectives help us define the purpose and expected outcomes of our work. These objectives provide a roadmap for what we aim to achieve. Here are some sample objectives:\n",
    "\n",
    "1. **Data Analysis**: Perform in-depth data analysis to identify trends and patterns in our dataset.\n",
    "\n",
    "2. **Model Development**: Create predictive models to forecast future trends based on historical data.\n",
    "\n",
    "3. **User Interface Design**: Develop an intuitive user interface that enhances the user experience.\n",
    "\n",
    "4. **Performance Optimization**: Optimize the performance of our application to ensure it runs efficiently.\n",
    "\n",
    "5. **Testing and Quality Assurance**: Rigorously test the software to identify and resolve any bugs or issues.\n",
    "\n",
    "6. **Documentation**: Create comprehensive documentation to assist users and future developers.\n",
    "\n",
    "7. **Training and Knowledge Sharing**: Conduct training sessions to empower team members with new skills and knowledge.\n",
    "\n",
    "8. **Feedback Collection**: Collect feedback from users to make continuous improvements to our product.\n",
    "\n",
    "9. **Project Milestones**: Achieve specific project milestones within the given timeline.\n",
    "\n",
    "10. **Cost Management**: Keep the project within the allocated budget and identify cost-saving opportunities.\n",
    "\n",
    "These objectives serve as a guideline for our work and help us measure our progress and success.\n"
   ]
  },
  {
   "cell_type": "markdown",
   "metadata": {},
   "source": [
    "## Create a markdown cell to indicate the Author’s name\n",
    "## Ashwani Verma"
   ]
  },
  {
   "cell_type": "markdown",
   "metadata": {},
   "source": [
    "## Share your notebook through GitHub"
   ]
  }
 ],
 "metadata": {
  "kernelspec": {
   "display_name": "Python",
   "language": "python",
   "name": "conda-env-python-py"
  },
  "language_info": {
   "codemirror_mode": {
    "name": "ipython",
    "version": 3
   },
   "file_extension": ".py",
   "mimetype": "text/x-python",
   "name": "python",
   "nbconvert_exporter": "python",
   "pygments_lexer": "ipython3",
   "version": "3.7.12"
  }
 },
 "nbformat": 4,
 "nbformat_minor": 4
}
